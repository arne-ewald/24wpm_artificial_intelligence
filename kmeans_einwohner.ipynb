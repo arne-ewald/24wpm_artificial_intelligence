{
 "cells": [
  {
   "cell_type": "markdown",
   "metadata": {},
   "source": [
    "# KMeans Clustering on Einwohnerzahl\n",
    "\n",
    "In this notebook, we will perform KMeans clustering on the `Einwohnerzahl` feature from our dataset."
   ]
  },
  {
   "cell_type": "code",
   "execution_count": null,
   "metadata": {},
   "outputs": [],
   "source": [
    "import pandas as pd\n",
    "from sklearn.cluster import KMeans\n",
    "import matplotlib.pyplot as plt\n",
    "\n",
    "# Load the data from a CSV file\n",
    "file_path = r\"C:\\Users\\ewalda\\OneDrive - NORDAKADEMIE\\shared\\Lehre\\24_WPM_KI_BSc\\datenerhebung\\2024_11_20_wpm_ki_daten.csv\"\n",
    "data = pd.read_csv(file_path, sep=';', index_col=0)\n",
    "\n",
    "# Display the first few rows of the dataframe\n",
    "data.head()\n",
    "\n",
    "# Remove rows with NaN values\n",
    "data = data.dropna()\n",
    "\n",
    "# Alternatively, to fill NaN values with a specific value (e.g., 0)\n",
    "# data = data.fillna(0)"
   ]
  },
  {
   "cell_type": "markdown",
   "metadata": {},
   "source": [
    "## Data Preprocessing\n",
    "\n",
    "We will extract the `Einwohnerzahl` feature and check for any missing values."
   ]
  },
  {
   "cell_type": "code",
   "execution_count": null,
   "metadata": {},
   "outputs": [
    {
     "data": {
      "text/plain": [
       "Einwohnerzahl    0\n",
       "DistanzNAK       0\n",
       "dtype: int64"
      ]
     },
     "execution_count": 13,
     "metadata": {},
     "output_type": "execute_result"
    }
   ],
   "source": [
    "# Extract the features\n",
    "X = data[['Einwohnerzahl', 'DistanzNAK']]\n",
    "\n",
    "# Check for missing values\n",
    "X.isnull().sum()"
   ]
  },
  {
   "cell_type": "markdown",
   "metadata": {},
   "source": [
    "## KMeans Clustering\n",
    "\n",
    "We will use the KMeans algorithm to cluster the data. First, we need to determine the optimal number of clusters using the elbow method."
   ]
  },
  {
   "cell_type": "markdown",
   "metadata": {},
   "source": [
    "From the elbow graph, we can determine the optimal number of clusters. Let's assume the optimal number of clusters is 3."
   ]
  },
  {
   "cell_type": "code",
   "execution_count": 1,
   "metadata": {},
   "outputs": [
    {
     "ename": "NameError",
     "evalue": "name 'KMeans' is not defined",
     "output_type": "error",
     "traceback": [
      "\u001b[1;31m---------------------------------------------------------------------------\u001b[0m",
      "\u001b[1;31mNameError\u001b[0m                                 Traceback (most recent call last)",
      "Cell \u001b[1;32mIn[1], line 4\u001b[0m\n\u001b[0;32m      1\u001b[0m n_clusters \u001b[38;5;241m=\u001b[39m \u001b[38;5;241m2\u001b[39m\n\u001b[0;32m      3\u001b[0m \u001b[38;5;66;03m# Apply KMeans with the optimal number of clusters\u001b[39;00m\n\u001b[1;32m----> 4\u001b[0m kmeans \u001b[38;5;241m=\u001b[39m \u001b[43mKMeans\u001b[49m(n_clusters\u001b[38;5;241m=\u001b[39mn_clusters, random_state\u001b[38;5;241m=\u001b[39m\u001b[38;5;241m42\u001b[39m)\n\u001b[0;32m      5\u001b[0m data[\u001b[38;5;124m'\u001b[39m\u001b[38;5;124mCluster\u001b[39m\u001b[38;5;124m'\u001b[39m] \u001b[38;5;241m=\u001b[39m kmeans\u001b[38;5;241m.\u001b[39mfit_predict(X)\n\u001b[0;32m      7\u001b[0m \u001b[38;5;66;03m# Display the first few rows of the dataframe with cluster labels\u001b[39;00m\n",
      "\u001b[1;31mNameError\u001b[0m: name 'KMeans' is not defined"
     ]
    }
   ],
   "source": [
    "n_clusters = 2\n",
    "\n",
    "# Apply KMeans with the optimal number of clusters\n",
    "kmeans = KMeans(n_clusters=n_clusters, random_state=42)\n",
    "data['Cluster'] = kmeans.fit_predict(X)\n",
    "\n",
    "# Display the first few rows of the dataframe with cluster labels\n",
    "data.head()"
   ]
  },
  {
   "cell_type": "markdown",
   "metadata": {},
   "source": [
    "## Visualize the Clusters\n",
    "\n",
    "Finally, we will visualize the clusters."
   ]
  },
  {
   "cell_type": "code",
   "execution_count": 2,
   "metadata": {},
   "outputs": [
    {
     "ename": "NameError",
     "evalue": "name 'plt' is not defined",
     "output_type": "error",
     "traceback": [
      "\u001b[1;31m---------------------------------------------------------------------------\u001b[0m",
      "\u001b[1;31mNameError\u001b[0m                                 Traceback (most recent call last)",
      "Cell \u001b[1;32mIn[2], line 3\u001b[0m\n\u001b[0;32m      1\u001b[0m \u001b[38;5;66;03m# Visualize the clusters\u001b[39;00m\n\u001b[1;32m----> 3\u001b[0m \u001b[43mplt\u001b[49m\u001b[38;5;241m.\u001b[39mscatter(X[\u001b[38;5;124m'\u001b[39m\u001b[38;5;124mEinwohnerzahl\u001b[39m\u001b[38;5;124m'\u001b[39m], X[\u001b[38;5;124m'\u001b[39m\u001b[38;5;124mDistanzNAK\u001b[39m\u001b[38;5;124m'\u001b[39m], c\u001b[38;5;241m=\u001b[39mdata[\u001b[38;5;124m'\u001b[39m\u001b[38;5;124mCluster\u001b[39m\u001b[38;5;124m'\u001b[39m], cmap\u001b[38;5;241m=\u001b[39m\u001b[38;5;124m'\u001b[39m\u001b[38;5;124mviridis\u001b[39m\u001b[38;5;124m'\u001b[39m)\n\u001b[0;32m      4\u001b[0m \u001b[38;5;66;03m# plt.scatter(X, [0]*len(X), c=data['Cluster'], cmap='viridis')\u001b[39;00m\n\u001b[0;32m      5\u001b[0m X[\u001b[38;5;124m'\u001b[39m\u001b[38;5;124mEinwohnerzahl\u001b[39m\u001b[38;5;124m'\u001b[39m], X[\u001b[38;5;124m'\u001b[39m\u001b[38;5;124mDistanzNAK\u001b[39m\u001b[38;5;124m'\u001b[39m]\n",
      "\u001b[1;31mNameError\u001b[0m: name 'plt' is not defined"
     ]
    }
   ],
   "source": [
    "# Visualize the clusters\n",
    "\n",
    "plt.scatter(X['Einwohnerzahl'], X['DistanzNAK'], c=data['Cluster'], cmap='viridis')\n",
    "# plt.scatter(X, [0]*len(X), c=data['Cluster'], cmap='viridis')\n",
    "X['Einwohnerzahl'], X['DistanzNAK']\n",
    "plt.xlabel('Einwohnerzahl')\n",
    "plt.ylabel('DistanzNAK')\n",
    "plt.title('KMeans Clustering')\n",
    "plt.show()"
   ]
  }
 ],
 "metadata": {
  "kernelspec": {
   "display_name": "ki2",
   "language": "python",
   "name": "python3"
  },
  "language_info": {
   "codemirror_mode": {
    "name": "ipython",
    "version": 3
   },
   "file_extension": ".py",
   "mimetype": "text/x-python",
   "name": "python",
   "nbconvert_exporter": "python",
   "pygments_lexer": "ipython3",
   "version": "3.11.8"
  }
 },
 "nbformat": 4,
 "nbformat_minor": 4
}
