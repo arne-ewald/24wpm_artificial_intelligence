{
 "cells": [
  {
   "cell_type": "markdown",
   "metadata": {},
   "source": [
    "# KMeans Clustering on Einwohnerzahl\n",
    "\n",
    "In this notebook, we will perform KMeans clustering on the `Einwohnerzahl` feature from our dataset."
   ]
  },
  {
   "cell_type": "code",
   "execution_count": 11,
   "metadata": {},
   "outputs": [],
   "source": [
    "import pandas as pd\n",
    "from sklearn.cluster import KMeans\n",
    "import matplotlib.pyplot as plt\n",
    "\n",
    "# Load the data from a CSV file\n",
    "file_path = r\"C:\\Users\\ewalda\\OneDrive - NORDAKADEMIE\\shared\\Lehre\\24_WPM_KI_BSc\\datenerhebung\\2024_11_20_wpm_ki_daten.csv\"\n",
    "data = pd.read_csv(file_path, sep=';', index_col=0)\n",
    "\n",
    "# Display the first few rows of the dataframe\n",
    "data.head()\n",
    "\n",
    "# Remove rows with NaN values\n",
    "data = data.dropna()\n",
    "\n",
    "# Alternatively, to fill NaN values with a specific value (e.g., 0)\n",
    "# data = data.fillna(0)"
   ]
  },
  {
   "cell_type": "markdown",
   "metadata": {},
   "source": [
    "## Data Preprocessing\n",
    "\n",
    "We will extract the `Einwohnerzahl` feature and check for any missing values."
   ]
  },
  {
   "cell_type": "code",
   "execution_count": 13,
   "metadata": {},
   "outputs": [
    {
     "data": {
      "text/plain": [
       "Einwohnerzahl    0\n",
       "DistanzNAK       0\n",
       "dtype: int64"
      ]
     },
     "execution_count": 13,
     "metadata": {},
     "output_type": "execute_result"
    }
   ],
   "source": [
    "# Extract the features\n",
    "X = data[['Einwohnerzahl', 'DistanzNAK']]\n",
    "\n",
    "# Check for missing values\n",
    "X.isnull().sum()"
   ]
  },
  {
   "cell_type": "markdown",
   "metadata": {},
   "source": [
    "## KMeans Clustering\n",
    "\n",
    "We will use the KMeans algorithm to cluster the data. First, we need to determine the optimal number of clusters using the elbow method."
   ]
  },
  {
   "cell_type": "markdown",
   "metadata": {},
   "source": [
    "From the elbow graph, we can determine the optimal number of clusters. Let's assume the optimal number of clusters is 3."
   ]
  },
  {
   "cell_type": "code",
   "execution_count": 22,
   "metadata": {},
   "outputs": [
    {
     "name": "stderr",
     "output_type": "stream",
     "text": [
      "c:\\Users\\ewalda\\.conda\\envs\\ki2\\Lib\\site-packages\\sklearn\\cluster\\_kmeans.py:1446: UserWarning: KMeans is known to have a memory leak on Windows with MKL, when there are less chunks than available threads. You can avoid it by setting the environment variable OMP_NUM_THREADS=1.\n",
      "  warnings.warn(\n"
     ]
    },
    {
     "data": {
      "text/html": [
       "<div>\n",
       "<style scoped>\n",
       "    .dataframe tbody tr th:only-of-type {\n",
       "        vertical-align: middle;\n",
       "    }\n",
       "\n",
       "    .dataframe tbody tr th {\n",
       "        vertical-align: top;\n",
       "    }\n",
       "\n",
       "    .dataframe thead th {\n",
       "        text-align: right;\n",
       "    }\n",
       "</style>\n",
       "<table border=\"1\" class=\"dataframe\">\n",
       "  <thead>\n",
       "    <tr style=\"text-align: right;\">\n",
       "      <th></th>\n",
       "      <th>Koerpergroesse</th>\n",
       "      <th>Lieblingsfilm</th>\n",
       "      <th>Sockenfarbe</th>\n",
       "      <th>Armlaenge</th>\n",
       "      <th>Einwohnerzahl</th>\n",
       "      <th>Handyakku</th>\n",
       "      <th>Sandkoerner</th>\n",
       "      <th>DistanzNAK</th>\n",
       "      <th>Pizza</th>\n",
       "      <th>Mathe</th>\n",
       "      <th>Schuhgroesse</th>\n",
       "      <th>Mahlzeiten_Mensa</th>\n",
       "      <th>Cluster</th>\n",
       "    </tr>\n",
       "    <tr>\n",
       "      <th>#</th>\n",
       "      <th></th>\n",
       "      <th></th>\n",
       "      <th></th>\n",
       "      <th></th>\n",
       "      <th></th>\n",
       "      <th></th>\n",
       "      <th></th>\n",
       "      <th></th>\n",
       "      <th></th>\n",
       "      <th></th>\n",
       "      <th></th>\n",
       "      <th></th>\n",
       "      <th></th>\n",
       "    </tr>\n",
       "  </thead>\n",
       "  <tbody>\n",
       "    <tr>\n",
       "      <th>1</th>\n",
       "      <td>188</td>\n",
       "      <td>Inception</td>\n",
       "      <td>grau</td>\n",
       "      <td>70.0</td>\n",
       "      <td>50.0</td>\n",
       "      <td>39</td>\n",
       "      <td>1000000000000000000000</td>\n",
       "      <td>110000</td>\n",
       "      <td>01.11.2024</td>\n",
       "      <td>7.0</td>\n",
       "      <td>45.0</td>\n",
       "      <td>180.0</td>\n",
       "      <td>2</td>\n",
       "    </tr>\n",
       "    <tr>\n",
       "      <th>3</th>\n",
       "      <td>192</td>\n",
       "      <td>Fightclub</td>\n",
       "      <td>weiß;lila</td>\n",
       "      <td>60.0</td>\n",
       "      <td>250.0</td>\n",
       "      <td>34</td>\n",
       "      <td>1000000000000000000000000000000000000000000000...</td>\n",
       "      <td>86000</td>\n",
       "      <td>10.11.2024</td>\n",
       "      <td>6.0</td>\n",
       "      <td>44.0</td>\n",
       "      <td>378.0</td>\n",
       "      <td>2</td>\n",
       "    </tr>\n",
       "    <tr>\n",
       "      <th>6</th>\n",
       "      <td>167</td>\n",
       "      <td>Memento</td>\n",
       "      <td>lila</td>\n",
       "      <td>70.0</td>\n",
       "      <td>50000.0</td>\n",
       "      <td>76</td>\n",
       "      <td>1000000000000000</td>\n",
       "      <td>20</td>\n",
       "      <td>03.11.2024</td>\n",
       "      <td>8.0</td>\n",
       "      <td>38.0</td>\n",
       "      <td>200.0</td>\n",
       "      <td>0</td>\n",
       "    </tr>\n",
       "    <tr>\n",
       "      <th>11</th>\n",
       "      <td>173</td>\n",
       "      <td>Schindlers Liste</td>\n",
       "      <td>schwarz</td>\n",
       "      <td>54.0</td>\n",
       "      <td>214000.0</td>\n",
       "      <td>64</td>\n",
       "      <td>3,00</td>\n",
       "      <td>67000</td>\n",
       "      <td>11.11.2024</td>\n",
       "      <td>1.0</td>\n",
       "      <td>43.0</td>\n",
       "      <td>3.0</td>\n",
       "      <td>3</td>\n",
       "    </tr>\n",
       "    <tr>\n",
       "      <th>14</th>\n",
       "      <td>197</td>\n",
       "      <td>Das Schweigen der Lämmer</td>\n",
       "      <td>schwarz</td>\n",
       "      <td>70.0</td>\n",
       "      <td>70000.0</td>\n",
       "      <td>71</td>\n",
       "      <td>1000000000000000000000</td>\n",
       "      <td>15000</td>\n",
       "      <td>13.11.2024</td>\n",
       "      <td>8.0</td>\n",
       "      <td>47.0</td>\n",
       "      <td>150.0</td>\n",
       "      <td>0</td>\n",
       "    </tr>\n",
       "  </tbody>\n",
       "</table>\n",
       "</div>"
      ],
      "text/plain": [
       "    Koerpergroesse             Lieblingsfilm Sockenfarbe  Armlaenge  \\\n",
       "#                                                                     \n",
       "1              188                 Inception        grau       70.0   \n",
       "3              192                 Fightclub   weiß;lila       60.0   \n",
       "6              167                   Memento        lila       70.0   \n",
       "11             173          Schindlers Liste     schwarz       54.0   \n",
       "14             197  Das Schweigen der Lämmer     schwarz       70.0   \n",
       "\n",
       "    Einwohnerzahl  Handyakku  \\\n",
       "#                              \n",
       "1            50.0         39   \n",
       "3           250.0         34   \n",
       "6         50000.0         76   \n",
       "11       214000.0         64   \n",
       "14        70000.0         71   \n",
       "\n",
       "                                          Sandkoerner  DistanzNAK       Pizza  \\\n",
       "#                                                                               \n",
       "1                              1000000000000000000000      110000  01.11.2024   \n",
       "3   1000000000000000000000000000000000000000000000...       86000  10.11.2024   \n",
       "6                                    1000000000000000          20  03.11.2024   \n",
       "11                                               3,00       67000  11.11.2024   \n",
       "14                             1000000000000000000000       15000  13.11.2024   \n",
       "\n",
       "    Mathe  Schuhgroesse  Mahlzeiten_Mensa  Cluster  \n",
       "#                                                   \n",
       "1     7.0          45.0             180.0        2  \n",
       "3     6.0          44.0             378.0        2  \n",
       "6     8.0          38.0             200.0        0  \n",
       "11    1.0          43.0               3.0        3  \n",
       "14    8.0          47.0             150.0        0  "
      ]
     },
     "execution_count": 22,
     "metadata": {},
     "output_type": "execute_result"
    }
   ],
   "source": [
    "n_clusters = 4\n",
    "\n",
    "# Apply KMeans with the optimal number of clusters\n",
    "kmeans = KMeans(n_clusters=n_clusters, random_state=42)\n",
    "data['Cluster'] = kmeans.fit_predict(X)\n",
    "\n",
    "# Display the first few rows of the dataframe with cluster labels\n",
    "data.head()"
   ]
  },
  {
   "cell_type": "markdown",
   "metadata": {},
   "source": [
    "## Visualize the Clusters\n",
    "\n",
    "Finally, we will visualize the clusters."
   ]
  },
  {
   "cell_type": "code",
   "execution_count": 23,
   "metadata": {},
   "outputs": [
    {
     "data": {
      "image/png": "[encoded data removed]",
      "text/plain": [
       "<Figure size 640x480 with 1 Axes>"
      ]
     },
     "metadata": {},
     "output_type": "display_data"
    }
   ],
   "source": [
    "# Visualize the clusters\n",
    "\n",
    "plt.scatter(X['Einwohnerzahl'], X['DistanzNAK'], c=data['Cluster'], cmap='viridis')\n",
    "# plt.scatter(X, [0]*len(X), c=data['Cluster'], cmap='viridis')\n",
    "X['Einwohnerzahl'], X['DistanzNAK']\n",
    "plt.xlabel('Einwohnerzahl')\n",
    "plt.ylabel('DistanzNAK')\n",
    "plt.title('KMeans Clustering')\n",
    "plt.show()"
   ]
  }
 ],
 "metadata": {
  "kernelspec": {
   "display_name": "ki2",
   "language": "python",
   "name": "python3"
  },
  "language_info": {
   "codemirror_mode": {
    "name": "ipython",
    "version": 3
   },
   "file_extension": ".py",
   "mimetype": "text/x-python",
   "name": "python",
   "nbconvert_exporter": "python",
   "pygments_lexer": "ipython3",
   "version": "3.11.8"
  }
 },
 "nbformat": 4,
 "nbformat_minor": 4
}
