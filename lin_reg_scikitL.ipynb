{
 "cells": [
  {
   "cell_type": "markdown",
   "metadata": {},
   "source": [
    "# Loading data"
   ]
  },
  {
   "cell_type": "code",
   "execution_count": null,
   "metadata": {},
   "outputs": [],
   "source": [
    "import pandas as pd\n",
    "\n",
    "# file_path = \"data\\synthetic_data.csv\"\n",
    "file_path = r\"C:\\Users\\ewalda\\OneDrive - NORDAKADEMIE\\shared\\Lehre\\24_WPM_KI_BSc\\datenerhebung\\2024_11_20_wpm_ki_daten.csv\"\n",
    "data = pd.read_csv(file_path, sep=';', index_col=0)"
   ]
  },
  {
   "cell_type": "markdown",
   "metadata": {},
   "source": [
    "# Feature extraction"
   ]
  },
  {
   "cell_type": "code",
   "execution_count": null,
   "metadata": {},
   "outputs": [],
   "source": [
    "import matplotlib.pyplot as plt\n",
    "import numpy as np\n",
    "\n",
    "# Define the variables\n",
    "xlabel = 'Koerpergroesse' # independent variable\n",
    "ylabel = 'Schuhgroesse'    # dep. variable / target / ground truth\n",
    "\n",
    "x = np.array(data[xlabel])\n",
    "y = np.array(data[ylabel])\n"
   ]
  },
  {
   "cell_type": "markdown",
   "metadata": {},
   "source": [
    "# Exploratory data analysis"
   ]
  },
  {
   "cell_type": "code",
   "execution_count": null,
   "metadata": {},
   "outputs": [],
   "source": [
    "\n",
    "# Print data for verification\n",
    "print(\"Body Heights (x):\", x)\n",
    "print(\"Shoe Sizes (y):\", y)\n",
    "\n",
    "# Create a scatter plot\n",
    "plt.scatter(x, y)\n",
    "plt.xlabel(xlabel)\n",
    "plt.ylabel(ylabel)\n",
    "plt.title('Scatter Plot')\n",
    "plt.show()\n"
   ]
  },
  {
   "cell_type": "markdown",
   "metadata": {},
   "source": [
    "# Data cleaning"
   ]
  },
  {
   "cell_type": "code",
   "execution_count": null,
   "metadata": {},
   "outputs": [],
   "source": [
    "# remove data points containing nan\n",
    "# Remove data points where either x or y is NaN\n",
    "mask = ~np.isnan(x) & ~np.isnan(y)\n",
    "x = x[mask]\n",
    "y = y[mask]\n"
   ]
  },
  {
   "cell_type": "markdown",
   "metadata": {},
   "source": [
    "# Training"
   ]
  },
  {
   "cell_type": "code",
   "execution_count": null,
   "metadata": {},
   "outputs": [],
   "source": [
    "from sklearn.linear_model import LinearRegression\n",
    "\n",
    "# Train the linear regression model\n",
    "model = LinearRegression()\n",
    "model.fit(x.reshape(-1, 1), y.reshape(-1, 1))\n"
   ]
  },
  {
   "cell_type": "code",
   "execution_count": null,
   "metadata": {},
   "outputs": [],
   "source": [
    "\n",
    "# Train the linear regression model\n",
    "model = LinearRegression()\n",
    "model.fit(x.reshape(-1, 1), y.reshape(-1, 1))\n"
   ]
  },
  {
   "cell_type": "markdown",
   "metadata": {},
   "source": [
    "# Model evaluation"
   ]
  },
  {
   "cell_type": "code",
   "execution_count": null,
   "metadata": {},
   "outputs": [],
   "source": [
    "\n",
    "from sklearn.metrics import mean_squared_error, r2_score\n",
    "\n",
    "# Get the learned parameters\n",
    "theta_0 = model.intercept_[0]\n",
    "theta_1 = model.coef_[0][0]\n",
    "print(f\"Intercept (θ₀): {theta_0:.2f}\")\n",
    "print(f\"Slope (θ₁): {theta_1:.2f}\")\n",
    "\n",
    "# Predict shoe sizes for the training data\n",
    "y_pred = model.predict(x.reshape(-1, 1))\n",
    "\n",
    "# Evaluate the model\n",
    "mse = mean_squared_error(y, y_pred)\n",
    "r2 = r2_score(y, y_pred)\n",
    "print(f\"Mean Squared Error (MSE): {mse:.2f}\")\n",
    "print(f\"R² Score: {r2:.2f}\")\n"
   ]
  },
  {
   "cell_type": "markdown",
   "metadata": {},
   "source": [
    "# Inference"
   ]
  },
  {
   "cell_type": "code",
   "execution_count": null,
   "metadata": {},
   "outputs": [],
   "source": [
    "# Predict a new data point\n",
    "new_x = np.array([[175], [192]])  # Example new body height\n",
    "new_y_pred = model.predict(new_x)\n",
    "\n",
    "# Print the prediction\n",
    "for i in range(new_x.shape[0]):\n",
    "    print(f\"Predicted shoe size for body height {new_x[i][0]} cm: {new_y_pred[i][0]:.2f}\")\n",
    "\n",
    "# Plot the new data point\n",
    "plt.scatter(new_x, new_y_pred, color='green', label='New Data Point')\n",
    "\n",
    "# Plot the data and the regression line\n",
    "plt.scatter(x, y, color='blue', label='Data Points')\n",
    "plt.plot(x, y_pred, color='red', label='Regression Line')\n",
    "plt.xlabel(\"Body Height (x, cm)\")\n",
    "plt.ylabel(\"Shoe Size (y)\")\n",
    "plt.title(\"Linear Regression: Body Height vs. Shoe Size\")\n",
    "plt.legend()\n",
    "plt.show()\n"
   ]
  }
 ],
 "metadata": {
  "kernelspec": {
   "display_name": "ki2",
   "language": "python",
   "name": "python3"
  },
  "language_info": {
   "codemirror_mode": {
    "name": "ipython",
    "version": 3
   },
   "file_extension": ".py",
   "mimetype": "text/x-python",
   "name": "python",
   "nbconvert_exporter": "python",
   "pygments_lexer": "ipython3",
   "version": "3.11.8"
  }
 },
 "nbformat": 4,
 "nbformat_minor": 2
}
